{
 "cells": [
  {
   "cell_type": "code",
   "execution_count": 1,
   "metadata": {},
   "outputs": [
    {
     "name": "stderr",
     "output_type": "stream",
     "text": [
      "D:\\anaconda\\lib\\site-packages\\h5py\\__init__.py:36: FutureWarning: Conversion of the second argument of issubdtype from `float` to `np.floating` is deprecated. In future, it will be treated as `np.float64 == np.dtype(float).type`.\n",
      "  from ._conv import register_converters as _register_converters\n"
     ]
    }
   ],
   "source": [
    "import tensorflow as tf"
   ]
  },
  {
   "cell_type": "code",
   "execution_count": 2,
   "metadata": {},
   "outputs": [
    {
     "name": "stdout",
     "output_type": "stream",
     "text": [
      "1.12.0\n"
     ]
    }
   ],
   "source": [
    "print(tf.__version__)"
   ]
  },
  {
   "cell_type": "code",
   "execution_count": 3,
   "metadata": {},
   "outputs": [
    {
     "name": "stdout",
     "output_type": "stream",
     "text": [
      "WARNING:tensorflow:From <ipython-input-3-344d77b837af>:2: read_data_sets (from tensorflow.contrib.learn.python.learn.datasets.mnist) is deprecated and will be removed in a future version.\n",
      "Instructions for updating:\n",
      "Please use alternatives such as official/mnist/dataset.py from tensorflow/models.\n",
      "WARNING:tensorflow:From D:\\anaconda\\lib\\site-packages\\tensorflow\\contrib\\learn\\python\\learn\\datasets\\mnist.py:260: maybe_download (from tensorflow.contrib.learn.python.learn.datasets.base) is deprecated and will be removed in a future version.\n",
      "Instructions for updating:\n",
      "Please write your own downloading logic.\n",
      "WARNING:tensorflow:From D:\\anaconda\\lib\\site-packages\\tensorflow\\contrib\\learn\\python\\learn\\datasets\\base.py:252: _internal_retry.<locals>.wrap.<locals>.wrapped_fn (from tensorflow.contrib.learn.python.learn.datasets.base) is deprecated and will be removed in a future version.\n",
      "Instructions for updating:\n",
      "Please use urllib or similar directly.\n",
      "Successfully downloaded train-images-idx3-ubyte.gz 9912422 bytes.\n",
      "WARNING:tensorflow:From D:\\anaconda\\lib\\site-packages\\tensorflow\\contrib\\learn\\python\\learn\\datasets\\mnist.py:262: extract_images (from tensorflow.contrib.learn.python.learn.datasets.mnist) is deprecated and will be removed in a future version.\n",
      "Instructions for updating:\n",
      "Please use tf.data to implement this functionality.\n",
      "Extracting MNIST/train-images-idx3-ubyte.gz\n",
      "Successfully downloaded train-labels-idx1-ubyte.gz 28881 bytes.\n",
      "WARNING:tensorflow:From D:\\anaconda\\lib\\site-packages\\tensorflow\\contrib\\learn\\python\\learn\\datasets\\mnist.py:267: extract_labels (from tensorflow.contrib.learn.python.learn.datasets.mnist) is deprecated and will be removed in a future version.\n",
      "Instructions for updating:\n",
      "Please use tf.data to implement this functionality.\n",
      "Extracting MNIST/train-labels-idx1-ubyte.gz\n",
      "WARNING:tensorflow:From D:\\anaconda\\lib\\site-packages\\tensorflow\\contrib\\learn\\python\\learn\\datasets\\mnist.py:110: dense_to_one_hot (from tensorflow.contrib.learn.python.learn.datasets.mnist) is deprecated and will be removed in a future version.\n",
      "Instructions for updating:\n",
      "Please use tf.one_hot on tensors.\n",
      "Successfully downloaded t10k-images-idx3-ubyte.gz 1648877 bytes.\n",
      "Extracting MNIST/t10k-images-idx3-ubyte.gz\n",
      "Successfully downloaded t10k-labels-idx1-ubyte.gz 4542 bytes.\n",
      "Extracting MNIST/t10k-labels-idx1-ubyte.gz\n",
      "WARNING:tensorflow:From D:\\anaconda\\lib\\site-packages\\tensorflow\\contrib\\learn\\python\\learn\\datasets\\mnist.py:290: DataSet.__init__ (from tensorflow.contrib.learn.python.learn.datasets.mnist) is deprecated and will be removed in a future version.\n",
      "Instructions for updating:\n",
      "Please use alternatives such as official/mnist/dataset.py from tensorflow/models.\n"
     ]
    }
   ],
   "source": [
    "from tensorflow.examples.tutorials.mnist import input_data\n",
    "data = input_data.read_data_sets('MNIST/', one_hot=True)"
   ]
  },
  {
   "cell_type": "code",
   "execution_count": 4,
   "metadata": {},
   "outputs": [
    {
     "data": {
      "text/plain": [
       "['t10k-images-idx3-ubyte.gz',\n",
       " 't10k-labels-idx1-ubyte.gz',\n",
       " 'train-images-idx3-ubyte.gz',\n",
       " 'train-labels-idx1-ubyte.gz']"
      ]
     },
     "execution_count": 4,
     "metadata": {},
     "output_type": "execute_result"
    }
   ],
   "source": [
    "import os\n",
    "os.listdir('MNIST/')"
   ]
  },
  {
   "cell_type": "code",
   "execution_count": 5,
   "metadata": {},
   "outputs": [
    {
     "name": "stdout",
     "output_type": "stream",
     "text": [
      "Image Inventory\n",
      "---------------\n",
      "Training: 55000\n",
      "Testing: 10000\n",
      "---------------\n"
     ]
    }
   ],
   "source": [
    "print('Image Inventory')\n",
    "print('---------------')\n",
    "print('Training: ' + str(len(data.train.labels)))\n",
    "print('Testing: ' + str(len(data.test.labels)))\n",
    "print('---------------')"
   ]
  },
  {
   "cell_type": "code",
   "execution_count": 7,
   "metadata": {},
   "outputs": [],
   "source": [
    "import numpy as np\n",
    "import matplotlib.pyplot as plt\n",
    "%matplotlib inline"
   ]
  },
  {
   "cell_type": "code",
   "execution_count": 11,
   "metadata": {},
   "outputs": [
    {
     "name": "stdout",
     "output_type": "stream",
     "text": [
      "-------------------\n",
      "[0. 0. 0. 0. 0. 0. 0. 1. 0. 0.]\n"
     ]
    },
    {
     "data": {
      "image/png": "[encoded data removed]",
      "text/plain": [
       "<Figure size 432x288 with 1 Axes>"
      ]
     },
     "metadata": {},
     "output_type": "display_data"
    },
    {
     "name": "stdout",
     "output_type": "stream",
     "text": [
      "-------------------\n",
      "[0. 0. 0. 1. 0. 0. 0. 0. 0. 0.]\n"
     ]
    },
    {
     "data": {
      "image/png": "[encoded data removed]",
      "text/plain": [
       "<Figure size 432x288 with 1 Axes>"
      ]
     },
     "metadata": {},
     "output_type": "display_data"
    },
    {
     "name": "stdout",
     "output_type": "stream",
     "text": [
      "-------------------\n",
      "[0. 0. 0. 0. 1. 0. 0. 0. 0. 0.]\n"
     ]
    },
    {
     "data": {
      "image/png": "[encoded data removed]",
      "text/plain": [
       "<Figure size 432x288 with 1 Axes>"
      ]
     },
     "metadata": {},
     "output_type": "display_data"
    },
    {
     "name": "stdout",
     "output_type": "stream",
     "text": [
      "-------------------\n",
      "[0. 0. 0. 0. 0. 0. 1. 0. 0. 0.]\n"
     ]
    },
    {
     "data": {
      "image/png": "[encoded data removed]",
      "text/plain": [
       "<Figure size 432x288 with 1 Axes>"
      ]
     },
     "metadata": {},
     "output_type": "display_data"
    }
   ],
   "source": [
    "for i in range(4):\n",
    "    image = data.train.images[i]\n",
    "    image = np.array(image, dtype = 'float')\n",
    "    label = data.train.labels[i]\n",
    "    pixels = image.reshape((28,28))\n",
    "    plt.imshow(pixels, cmap='gray')\n",
    "    print('-------------------')\n",
    "    print(label)\n",
    "    plt.show()"
   ]
  },
  {
   "cell_type": "code",
   "execution_count": 12,
   "metadata": {},
   "outputs": [],
   "source": [
    "from matplotlib import image"
   ]
  },
  {
   "cell_type": "code",
   "execution_count": 14,
   "metadata": {},
   "outputs": [],
   "source": [
    "if not os.path.exists('MNIST/images'):\n",
    "    os.mkdir('MNIST/images/')\n",
    "os.chdir('MNIST/images')"
   ]
  },
  {
   "cell_type": "code",
   "execution_count": 16,
   "metadata": {},
   "outputs": [],
   "source": [
    "for i in range(1,10):\n",
    "    png = data.train.images[i]\n",
    "    png = np.array(png, dtype = 'float')\n",
    "    pixels = png.reshape((28,28))\n",
    "    image.imsave(\"image_no_{}.png\".format(i),pixels, cmap='gray')"
   ]
  },
  {
   "cell_type": "code",
   "execution_count": 17,
   "metadata": {},
   "outputs": [
    {
     "name": "stdout",
     "output_type": "stream",
     "text": [
      "['image_no_1.png', 'image_no_2.png', 'image_no_3.png', 'image_no_4.png', 'image_no_5.png', 'image_no_6.png', 'image_no_7.png', 'image_no_8.png', 'image_no_9.png']\n"
     ]
    }
   ],
   "source": [
    "print(os.listdir())"
   ]
  },
  {
   "cell_type": "code",
   "execution_count": 19,
   "metadata": {},
   "outputs": [],
   "source": [
    "from Augmentor import Pipeline"
   ]
  },
  {
   "cell_type": "code",
   "execution_count": 20,
   "metadata": {},
   "outputs": [
    {
     "name": "stdout",
     "output_type": "stream",
     "text": [
      "Initialised with 9 image(s) found.\n",
      "Output directory set to D:\\spark study\\MNIST\\images\\output."
     ]
    }
   ],
   "source": [
    "augmentor = Pipeline('D:\\spark study\\MNIST\\images')"
   ]
  },
  {
   "cell_type": "code",
   "execution_count": 21,
   "metadata": {},
   "outputs": [],
   "source": [
    "augmentor.rotate(probability=0.9, max_left_rotation=25, max_right_rotation=25)"
   ]
  },
  {
   "cell_type": "code",
   "execution_count": 22,
   "metadata": {},
   "outputs": [
    {
     "name": "stderr",
     "output_type": "stream",
     "text": [
      "Processing <PIL.Image.Image image mode=RGBA size=28x28 at 0x1C4DD412828>: 100%|█| 10/10 [00:00<00:00, 640.16 Samples/s]\n",
      "Processing <PIL.Image.Image image mode=RGBA size=28x28 at 0x1C4DD412080>: 100%|█| 10/10 [00:00<00:00, 406.49 Samples/s]               \n"
     ]
    }
   ],
   "source": [
    "for i in range(1,3):\n",
    "    augmentor.sample(10)"
   ]
  },
  {
   "cell_type": "code",
   "execution_count": 23,
   "metadata": {},
   "outputs": [],
   "source": [
    "xtrain = data.train.images\n",
    "ytrain = np.asarray(data.train.labels)\n",
    "xtest = data.test.images\n",
    "ytest = np.asarray(data.test.labels)"
   ]
  },
  {
   "cell_type": "code",
   "execution_count": 25,
   "metadata": {},
   "outputs": [],
   "source": [
    "xtrain = xtrain.reshape(xtrain.shape[0],28,28,1)\n",
    "xtest = xtest.reshape(xtest.shape[0],28,28,1)\n",
    "ytrain = ytrain.reshape(ytrain.shape[0],10)\n",
    "ytest = ytest.reshape(ytest.shape[0],10)"
   ]
  },
  {
   "cell_type": "code",
   "execution_count": 27,
   "metadata": {},
   "outputs": [
    {
     "name": "stdout",
     "output_type": "stream",
     "text": [
      "(55000, 28, 28, 1)\n",
      "(55000, 10)\n",
      "(10000, 28, 28, 1)\n",
      "(10000, 10)\n"
     ]
    }
   ],
   "source": [
    "print(xtrain.shape)\n",
    "print(ytrain.shape)\n",
    "print(xtest.shape)\n",
    "print(ytest.shape)"
   ]
  },
  {
   "cell_type": "code",
   "execution_count": 29,
   "metadata": {},
   "outputs": [],
   "source": [
    "import keras\n",
    "import keras.backend as K\n",
    "from keras.models import Sequential\n",
    "from keras.layers import Dense, Flatten, Conv2D"
   ]
  },
  {
   "cell_type": "code",
   "execution_count": 30,
   "metadata": {},
   "outputs": [],
   "source": [
    "K.set_image_dim_ordering('tf')"
   ]
  },
  {
   "cell_type": "code",
   "execution_count": 31,
   "metadata": {},
   "outputs": [],
   "source": [
    "model = Sequential()"
   ]
  },
  {
   "cell_type": "code",
   "execution_count": 32,
   "metadata": {},
   "outputs": [],
   "source": [
    "model.add(Conv2D(32, kernel_size=(3,3), activation='relu', input_shape = (28,28,1)))\n",
    "model.add(Flatten())\n",
    "model.add(Dense(128, activation='relu'))\n",
    "model.add(Dense(10, activation='sigmoid'))"
   ]
  },
  {
   "cell_type": "code",
   "execution_count": 33,
   "metadata": {},
   "outputs": [],
   "source": [
    "model.compile(optimizer='adam',loss='binary_crossentropy',metrics=['accuracy'])"
   ]
  },
  {
   "cell_type": "code",
   "execution_count": 35,
   "metadata": {},
   "outputs": [
    {
     "name": "stdout",
     "output_type": "stream",
     "text": [
      "Train on 55000 samples, validate on 10000 samples\n",
      "Epoch 1/10\n",
      "55000/55000 [==============================] - ETA: 53s - loss: 0.6974 - acc: 0.45 - ETA: 38s - loss: 0.5732 - acc: 0.67 - ETA: 31s - loss: 0.4952 - acc: 0.75 - ETA: 28s - loss: 0.4469 - acc: 0.78 - ETA: 26s - loss: 0.4173 - acc: 0.81 - ETA: 24s - loss: 0.3955 - acc: 0.82 - ETA: 23s - loss: 0.3756 - acc: 0.83 - ETA: 22s - loss: 0.3582 - acc: 0.84 - ETA: 21s - loss: 0.3413 - acc: 0.85 - ETA: 20s - loss: 0.3253 - acc: 0.86 - ETA: 20s - loss: 0.3112 - acc: 0.86 - ETA: 19s - loss: 0.2989 - acc: 0.87 - ETA: 19s - loss: 0.2881 - acc: 0.88 - ETA: 18s - loss: 0.2785 - acc: 0.88 - ETA: 17s - loss: 0.2698 - acc: 0.89 - ETA: 17s - loss: 0.2612 - acc: 0.89 - ETA: 16s - loss: 0.2537 - acc: 0.89 - ETA: 16s - loss: 0.2463 - acc: 0.90 - ETA: 15s - loss: 0.2396 - acc: 0.90 - ETA: 14s - loss: 0.2331 - acc: 0.90 - ETA: 14s - loss: 0.2269 - acc: 0.91 - ETA: 13s - loss: 0.2213 - acc: 0.91 - ETA: 13s - loss: 0.2160 - acc: 0.91 - ETA: 12s - loss: 0.2114 - acc: 0.91 - ETA: 12s - loss: 0.2070 - acc: 0.91 - ETA: 12s - loss: 0.2024 - acc: 0.92 - ETA: 11s - loss: 0.1984 - acc: 0.92 - ETA: 11s - loss: 0.1945 - acc: 0.92 - ETA: 10s - loss: 0.1908 - acc: 0.92 - ETA: 10s - loss: 0.1874 - acc: 0.92 - ETA: 9s - loss: 0.1843 - acc: 0.9292 - ETA: 9s - loss: 0.1813 - acc: 0.930 - ETA: 8s - loss: 0.1783 - acc: 0.931 - ETA: 8s - loss: 0.1754 - acc: 0.933 - ETA: 8s - loss: 0.1728 - acc: 0.934 - ETA: 7s - loss: 0.1704 - acc: 0.935 - ETA: 7s - loss: 0.1678 - acc: 0.936 - ETA: 6s - loss: 0.1657 - acc: 0.937 - ETA: 6s - loss: 0.1633 - acc: 0.938 - ETA: 5s - loss: 0.1609 - acc: 0.939 - ETA: 5s - loss: 0.1587 - acc: 0.940 - ETA: 4s - loss: 0.1567 - acc: 0.941 - ETA: 4s - loss: 0.1547 - acc: 0.941 - ETA: 4s - loss: 0.1528 - acc: 0.942 - ETA: 3s - loss: 0.1509 - acc: 0.943 - ETA: 3s - loss: 0.1491 - acc: 0.944 - ETA: 2s - loss: 0.1474 - acc: 0.945 - ETA: 2s - loss: 0.1458 - acc: 0.945 - ETA: 2s - loss: 0.1442 - acc: 0.946 - ETA: 1s - loss: 0.1425 - acc: 0.947 - ETA: 1s - loss: 0.1410 - acc: 0.947 - ETA: 0s - loss: 0.1396 - acc: 0.948 - ETA: 0s - loss: 0.1382 - acc: 0.948 - 24s 437us/step - loss: 0.1373 - acc: 0.9492 - val_loss: 0.0592 - val_acc: 0.9813\n",
      "Epoch 2/10\n",
      "55000/55000 [==============================] - ETA: 21s - loss: 0.0592 - acc: 0.98 - ETA: 21s - loss: 0.0611 - acc: 0.98 - ETA: 20s - loss: 0.0595 - acc: 0.98 - ETA: 20s - loss: 0.0593 - acc: 0.98 - ETA: 20s - loss: 0.0595 - acc: 0.98 - ETA: 20s - loss: 0.0593 - acc: 0.98 - ETA: 20s - loss: 0.0591 - acc: 0.98 - ETA: 19s - loss: 0.0598 - acc: 0.98 - ETA: 19s - loss: 0.0592 - acc: 0.98 - ETA: 18s - loss: 0.0588 - acc: 0.98 - ETA: 18s - loss: 0.0589 - acc: 0.98 - ETA: 17s - loss: 0.0586 - acc: 0.98 - ETA: 17s - loss: 0.0584 - acc: 0.98 - ETA: 17s - loss: 0.0579 - acc: 0.98 - ETA: 16s - loss: 0.0576 - acc: 0.98 - ETA: 16s - loss: 0.0573 - acc: 0.98 - ETA: 15s - loss: 0.0572 - acc: 0.98 - ETA: 15s - loss: 0.0570 - acc: 0.98 - ETA: 14s - loss: 0.0571 - acc: 0.98 - ETA: 14s - loss: 0.0565 - acc: 0.98 - ETA: 14s - loss: 0.0559 - acc: 0.98 - ETA: 13s - loss: 0.0562 - acc: 0.98 - ETA: 13s - loss: 0.0561 - acc: 0.98 - ETA: 13s - loss: 0.0560 - acc: 0.98 - ETA: 12s - loss: 0.0558 - acc: 0.98 - ETA: 12s - loss: 0.0554 - acc: 0.98 - ETA: 11s - loss: 0.0555 - acc: 0.98 - ETA: 11s - loss: 0.0552 - acc: 0.98 - ETA: 10s - loss: 0.0550 - acc: 0.98 - ETA: 10s - loss: 0.0549 - acc: 0.98 - ETA: 9s - loss: 0.0547 - acc: 0.9825 - ETA: 9s - loss: 0.0546 - acc: 0.982 - ETA: 9s - loss: 0.0544 - acc: 0.982 - ETA: 8s - loss: 0.0542 - acc: 0.982 - ETA: 8s - loss: 0.0540 - acc: 0.982 - ETA: 7s - loss: 0.0539 - acc: 0.982 - ETA: 7s - loss: 0.0537 - acc: 0.983 - ETA: 6s - loss: 0.0535 - acc: 0.983 - ETA: 6s - loss: 0.0532 - acc: 0.983 - ETA: 6s - loss: 0.0530 - acc: 0.983 - ETA: 5s - loss: 0.0530 - acc: 0.983 - ETA: 5s - loss: 0.0527 - acc: 0.983 - ETA: 4s - loss: 0.0524 - acc: 0.983 - ETA: 4s - loss: 0.0522 - acc: 0.983 - ETA: 3s - loss: 0.0520 - acc: 0.983 - ETA: 3s - loss: 0.0518 - acc: 0.983 - ETA: 2s - loss: 0.0516 - acc: 0.983 - ETA: 2s - loss: 0.0514 - acc: 0.983 - ETA: 2s - loss: 0.0513 - acc: 0.983 - ETA: 1s - loss: 0.0511 - acc: 0.983 - ETA: 1s - loss: 0.0510 - acc: 0.983 - ETA: 0s - loss: 0.0507 - acc: 0.984 - ETA: 0s - loss: 0.0505 - acc: 0.984 - 25s 454us/step - loss: 0.0503 - acc: 0.9841 - val_loss: 0.0390 - val_acc: 0.9882\n",
      "Epoch 3/10\n",
      "55000/55000 [==============================] - ETA: 24s - loss: 0.0362 - acc: 0.98 - ETA: 23s - loss: 0.0370 - acc: 0.98 - ETA: 22s - loss: 0.0372 - acc: 0.98 - ETA: 22s - loss: 0.0376 - acc: 0.98 - ETA: 21s - loss: 0.0388 - acc: 0.98 - ETA: 20s - loss: 0.0386 - acc: 0.98 - ETA: 20s - loss: 0.0383 - acc: 0.98 - ETA: 19s - loss: 0.0376 - acc: 0.98 - ETA: 19s - loss: 0.0374 - acc: 0.98 - ETA: 19s - loss: 0.0376 - acc: 0.98 - ETA: 18s - loss: 0.0376 - acc: 0.98 - ETA: 18s - loss: 0.0374 - acc: 0.98 - ETA: 18s - loss: 0.0372 - acc: 0.98 - ETA: 17s - loss: 0.0372 - acc: 0.98 - ETA: 17s - loss: 0.0372 - acc: 0.98 - ETA: 16s - loss: 0.0372 - acc: 0.98 - ETA: 16s - loss: 0.0373 - acc: 0.98 - ETA: 15s - loss: 0.0367 - acc: 0.98 - ETA: 15s - loss: 0.0368 - acc: 0.98 - ETA: 14s - loss: 0.0369 - acc: 0.98 - ETA: 14s - loss: 0.0368 - acc: 0.98 - ETA: 13s - loss: 0.0368 - acc: 0.98 - ETA: 13s - loss: 0.0365 - acc: 0.98 - ETA: 12s - loss: 0.0364 - acc: 0.98 - ETA: 12s - loss: 0.0364 - acc: 0.98 - ETA: 12s - loss: 0.0364 - acc: 0.98 - ETA: 11s - loss: 0.0363 - acc: 0.98 - ETA: 11s - loss: 0.0362 - acc: 0.98 - ETA: 10s - loss: 0.0359 - acc: 0.98 - ETA: 10s - loss: 0.0360 - acc: 0.98 - ETA: 10s - loss: 0.0360 - acc: 0.98 - ETA: 9s - loss: 0.0360 - acc: 0.9888 - ETA: 9s - loss: 0.0360 - acc: 0.988 - ETA: 8s - loss: 0.0361 - acc: 0.988 - ETA: 8s - loss: 0.0358 - acc: 0.988 - ETA: 7s - loss: 0.0357 - acc: 0.988 - ETA: 7s - loss: 0.0356 - acc: 0.988 - ETA: 6s - loss: 0.0356 - acc: 0.989 - ETA: 6s - loss: 0.0355 - acc: 0.989 - ETA: 6s - loss: 0.0354 - acc: 0.989 - ETA: 5s - loss: 0.0352 - acc: 0.989 - ETA: 5s - loss: 0.0352 - acc: 0.989 - ETA: 4s - loss: 0.0353 - acc: 0.989 - ETA: 4s - loss: 0.0352 - acc: 0.989 - ETA: 3s - loss: 0.0351 - acc: 0.989 - ETA: 3s - loss: 0.0350 - acc: 0.989 - ETA: 2s - loss: 0.0349 - acc: 0.989 - ETA: 2s - loss: 0.0348 - acc: 0.989 - ETA: 2s - loss: 0.0349 - acc: 0.989 - ETA: 1s - loss: 0.0348 - acc: 0.989 - ETA: 1s - loss: 0.0347 - acc: 0.989 - ETA: 0s - loss: 0.0346 - acc: 0.989 - ETA: 0s - loss: 0.0346 - acc: 0.989 - 25s 454us/step - loss: 0.0345 - acc: 0.9894 - val_loss: 0.0289 - val_acc: 0.9911\n",
      "Epoch 4/10\n"
     ]
    },
    {
     "name": "stdout",
     "output_type": "stream",
     "text": [
      "55000/55000 [==============================] - ETA: 24s - loss: 0.0329 - acc: 0.99 - ETA: 24s - loss: 0.0320 - acc: 0.99 - ETA: 24s - loss: 0.0304 - acc: 0.99 - ETA: 24s - loss: 0.0304 - acc: 0.99 - ETA: 23s - loss: 0.0303 - acc: 0.99 - ETA: 22s - loss: 0.0305 - acc: 0.99 - ETA: 21s - loss: 0.0308 - acc: 0.99 - ETA: 21s - loss: 0.0303 - acc: 0.99 - ETA: 20s - loss: 0.0296 - acc: 0.99 - ETA: 19s - loss: 0.0293 - acc: 0.99 - ETA: 19s - loss: 0.0291 - acc: 0.99 - ETA: 18s - loss: 0.0288 - acc: 0.99 - ETA: 18s - loss: 0.0285 - acc: 0.99 - ETA: 17s - loss: 0.0282 - acc: 0.99 - ETA: 17s - loss: 0.0281 - acc: 0.99 - ETA: 16s - loss: 0.0280 - acc: 0.99 - ETA: 16s - loss: 0.0279 - acc: 0.99 - ETA: 15s - loss: 0.0278 - acc: 0.99 - ETA: 15s - loss: 0.0277 - acc: 0.99 - ETA: 15s - loss: 0.0273 - acc: 0.99 - ETA: 14s - loss: 0.0271 - acc: 0.99 - ETA: 14s - loss: 0.0269 - acc: 0.99 - ETA: 13s - loss: 0.0268 - acc: 0.99 - ETA: 13s - loss: 0.0268 - acc: 0.99 - ETA: 12s - loss: 0.0267 - acc: 0.99 - ETA: 12s - loss: 0.0266 - acc: 0.99 - ETA: 11s - loss: 0.0266 - acc: 0.99 - ETA: 11s - loss: 0.0267 - acc: 0.99 - ETA: 10s - loss: 0.0266 - acc: 0.99 - ETA: 10s - loss: 0.0266 - acc: 0.99 - ETA: 10s - loss: 0.0265 - acc: 0.99 - ETA: 9s - loss: 0.0265 - acc: 0.9920 - ETA: 9s - loss: 0.0265 - acc: 0.992 - ETA: 8s - loss: 0.0264 - acc: 0.992 - ETA: 8s - loss: 0.0263 - acc: 0.992 - ETA: 7s - loss: 0.0263 - acc: 0.992 - ETA: 7s - loss: 0.0262 - acc: 0.992 - ETA: 6s - loss: 0.0262 - acc: 0.992 - ETA: 6s - loss: 0.0261 - acc: 0.992 - ETA: 6s - loss: 0.0261 - acc: 0.992 - ETA: 5s - loss: 0.0261 - acc: 0.992 - ETA: 5s - loss: 0.0261 - acc: 0.992 - ETA: 4s - loss: 0.0260 - acc: 0.992 - ETA: 4s - loss: 0.0260 - acc: 0.992 - ETA: 3s - loss: 0.0259 - acc: 0.992 - ETA: 3s - loss: 0.0258 - acc: 0.992 - ETA: 2s - loss: 0.0258 - acc: 0.992 - ETA: 2s - loss: 0.0258 - acc: 0.992 - ETA: 2s - loss: 0.0257 - acc: 0.992 - ETA: 1s - loss: 0.0257 - acc: 0.992 - ETA: 1s - loss: 0.0256 - acc: 0.992 - ETA: 0s - loss: 0.0256 - acc: 0.992 - ETA: 0s - loss: 0.0255 - acc: 0.992 - 25s 455us/step - loss: 0.0254 - acc: 0.9924 - val_loss: 0.0228 - val_acc: 0.9932\n",
      "Epoch 5/10\n",
      "55000/55000 [==============================] - ETA: 23s - loss: 0.0217 - acc: 0.99 - ETA: 22s - loss: 0.0219 - acc: 0.99 - ETA: 21s - loss: 0.0216 - acc: 0.99 - ETA: 21s - loss: 0.0218 - acc: 0.99 - ETA: 20s - loss: 0.0223 - acc: 0.99 - ETA: 20s - loss: 0.0223 - acc: 0.99 - ETA: 19s - loss: 0.0225 - acc: 0.99 - ETA: 19s - loss: 0.0225 - acc: 0.99 - ETA: 19s - loss: 0.0221 - acc: 0.99 - ETA: 19s - loss: 0.0220 - acc: 0.99 - ETA: 19s - loss: 0.0218 - acc: 0.99 - ETA: 19s - loss: 0.0217 - acc: 0.99 - ETA: 18s - loss: 0.0216 - acc: 0.99 - ETA: 18s - loss: 0.0213 - acc: 0.99 - ETA: 17s - loss: 0.0212 - acc: 0.99 - ETA: 17s - loss: 0.0211 - acc: 0.99 - ETA: 16s - loss: 0.0210 - acc: 0.99 - ETA: 16s - loss: 0.0211 - acc: 0.99 - ETA: 15s - loss: 0.0211 - acc: 0.99 - ETA: 15s - loss: 0.0209 - acc: 0.99 - ETA: 14s - loss: 0.0209 - acc: 0.99 - ETA: 14s - loss: 0.0208 - acc: 0.99 - ETA: 13s - loss: 0.0209 - acc: 0.99 - ETA: 13s - loss: 0.0207 - acc: 0.99 - ETA: 12s - loss: 0.0208 - acc: 0.99 - ETA: 12s - loss: 0.0208 - acc: 0.99 - ETA: 11s - loss: 0.0208 - acc: 0.99 - ETA: 11s - loss: 0.0208 - acc: 0.99 - ETA: 11s - loss: 0.0208 - acc: 0.99 - ETA: 10s - loss: 0.0208 - acc: 0.99 - ETA: 10s - loss: 0.0208 - acc: 0.99 - ETA: 9s - loss: 0.0208 - acc: 0.9937 - ETA: 9s - loss: 0.0208 - acc: 0.993 - ETA: 8s - loss: 0.0208 - acc: 0.993 - ETA: 8s - loss: 0.0207 - acc: 0.993 - ETA: 7s - loss: 0.0207 - acc: 0.993 - ETA: 7s - loss: 0.0206 - acc: 0.993 - ETA: 6s - loss: 0.0207 - acc: 0.993 - ETA: 6s - loss: 0.0205 - acc: 0.993 - ETA: 6s - loss: 0.0204 - acc: 0.993 - ETA: 5s - loss: 0.0203 - acc: 0.993 - ETA: 5s - loss: 0.0204 - acc: 0.993 - ETA: 4s - loss: 0.0204 - acc: 0.993 - ETA: 4s - loss: 0.0203 - acc: 0.993 - ETA: 3s - loss: 0.0203 - acc: 0.993 - ETA: 3s - loss: 0.0204 - acc: 0.993 - ETA: 3s - loss: 0.0204 - acc: 0.993 - ETA: 2s - loss: 0.0203 - acc: 0.993 - ETA: 2s - loss: 0.0203 - acc: 0.994 - ETA: 1s - loss: 0.0203 - acc: 0.994 - ETA: 1s - loss: 0.0203 - acc: 0.994 - ETA: 0s - loss: 0.0202 - acc: 0.994 - ETA: 0s - loss: 0.0202 - acc: 0.994 - 25s 457us/step - loss: 0.0202 - acc: 0.9940 - val_loss: 0.0193 - val_acc: 0.9942\n",
      "Epoch 6/10\n",
      "55000/55000 [==============================] - ETA: 25s - loss: 0.0168 - acc: 0.99 - ETA: 24s - loss: 0.0166 - acc: 0.99 - ETA: 24s - loss: 0.0172 - acc: 0.99 - ETA: 23s - loss: 0.0170 - acc: 0.99 - ETA: 23s - loss: 0.0165 - acc: 0.99 - ETA: 22s - loss: 0.0169 - acc: 0.99 - ETA: 21s - loss: 0.0173 - acc: 0.99 - ETA: 21s - loss: 0.0169 - acc: 0.99 - ETA: 20s - loss: 0.0171 - acc: 0.99 - ETA: 19s - loss: 0.0168 - acc: 0.99 - ETA: 19s - loss: 0.0169 - acc: 0.99 - ETA: 18s - loss: 0.0167 - acc: 0.99 - ETA: 18s - loss: 0.0168 - acc: 0.99 - ETA: 17s - loss: 0.0169 - acc: 0.99 - ETA: 17s - loss: 0.0167 - acc: 0.99 - ETA: 16s - loss: 0.0168 - acc: 0.99 - ETA: 16s - loss: 0.0170 - acc: 0.99 - ETA: 15s - loss: 0.0169 - acc: 0.99 - ETA: 15s - loss: 0.0169 - acc: 0.99 - ETA: 14s - loss: 0.0171 - acc: 0.99 - ETA: 14s - loss: 0.0170 - acc: 0.99 - ETA: 14s - loss: 0.0170 - acc: 0.99 - ETA: 13s - loss: 0.0171 - acc: 0.99 - ETA: 13s - loss: 0.0171 - acc: 0.99 - ETA: 12s - loss: 0.0169 - acc: 0.99 - ETA: 12s - loss: 0.0169 - acc: 0.99 - ETA: 11s - loss: 0.0169 - acc: 0.99 - ETA: 11s - loss: 0.0169 - acc: 0.99 - ETA: 10s - loss: 0.0168 - acc: 0.99 - ETA: 10s - loss: 0.0169 - acc: 0.99 - ETA: 9s - loss: 0.0168 - acc: 0.9950 - ETA: 9s - loss: 0.0168 - acc: 0.995 - ETA: 9s - loss: 0.0167 - acc: 0.995 - ETA: 8s - loss: 0.0167 - acc: 0.995 - ETA: 8s - loss: 0.0167 - acc: 0.995 - ETA: 7s - loss: 0.0166 - acc: 0.995 - ETA: 7s - loss: 0.0166 - acc: 0.995 - ETA: 6s - loss: 0.0166 - acc: 0.995 - ETA: 6s - loss: 0.0166 - acc: 0.995 - ETA: 6s - loss: 0.0164 - acc: 0.995 - ETA: 5s - loss: 0.0164 - acc: 0.995 - ETA: 5s - loss: 0.0165 - acc: 0.995 - ETA: 4s - loss: 0.0165 - acc: 0.995 - ETA: 4s - loss: 0.0165 - acc: 0.995 - ETA: 3s - loss: 0.0166 - acc: 0.995 - ETA: 3s - loss: 0.0166 - acc: 0.995 - ETA: 2s - loss: 0.0166 - acc: 0.995 - ETA: 2s - loss: 0.0166 - acc: 0.995 - ETA: 2s - loss: 0.0166 - acc: 0.995 - ETA: 1s - loss: 0.0166 - acc: 0.995 - ETA: 1s - loss: 0.0166 - acc: 0.995 - ETA: 0s - loss: 0.0166 - acc: 0.995 - ETA: 0s - loss: 0.0166 - acc: 0.995 - 25s 454us/step - loss: 0.0167 - acc: 0.9951 - val_loss: 0.0175 - val_acc: 0.9946\n",
      "Epoch 7/10\n"
     ]
    },
    {
     "name": "stdout",
     "output_type": "stream",
     "text": [
      "55000/55000 [==============================] - ETA: 22s - loss: 0.0156 - acc: 0.99 - ETA: 22s - loss: 0.0134 - acc: 0.99 - ETA: 22s - loss: 0.0143 - acc: 0.99 - ETA: 21s - loss: 0.0145 - acc: 0.99 - ETA: 21s - loss: 0.0143 - acc: 0.99 - ETA: 20s - loss: 0.0145 - acc: 0.99 - ETA: 20s - loss: 0.0144 - acc: 0.99 - ETA: 19s - loss: 0.0141 - acc: 0.99 - ETA: 19s - loss: 0.0140 - acc: 0.99 - ETA: 19s - loss: 0.0140 - acc: 0.99 - ETA: 18s - loss: 0.0141 - acc: 0.99 - ETA: 18s - loss: 0.0144 - acc: 0.99 - ETA: 18s - loss: 0.0145 - acc: 0.99 - ETA: 17s - loss: 0.0144 - acc: 0.99 - ETA: 17s - loss: 0.0146 - acc: 0.99 - ETA: 16s - loss: 0.0145 - acc: 0.99 - ETA: 16s - loss: 0.0146 - acc: 0.99 - ETA: 15s - loss: 0.0147 - acc: 0.99 - ETA: 15s - loss: 0.0146 - acc: 0.99 - ETA: 15s - loss: 0.0147 - acc: 0.99 - ETA: 14s - loss: 0.0146 - acc: 0.99 - ETA: 14s - loss: 0.0145 - acc: 0.99 - ETA: 13s - loss: 0.0147 - acc: 0.99 - ETA: 13s - loss: 0.0147 - acc: 0.99 - ETA: 12s - loss: 0.0147 - acc: 0.99 - ETA: 12s - loss: 0.0147 - acc: 0.99 - ETA: 11s - loss: 0.0147 - acc: 0.99 - ETA: 11s - loss: 0.0148 - acc: 0.99 - ETA: 11s - loss: 0.0147 - acc: 0.99 - ETA: 10s - loss: 0.0146 - acc: 0.99 - ETA: 10s - loss: 0.0145 - acc: 0.99 - ETA: 9s - loss: 0.0145 - acc: 0.9958 - ETA: 9s - loss: 0.0144 - acc: 0.995 - ETA: 8s - loss: 0.0144 - acc: 0.995 - ETA: 8s - loss: 0.0144 - acc: 0.995 - ETA: 7s - loss: 0.0144 - acc: 0.995 - ETA: 7s - loss: 0.0144 - acc: 0.995 - ETA: 7s - loss: 0.0144 - acc: 0.995 - ETA: 6s - loss: 0.0144 - acc: 0.995 - ETA: 6s - loss: 0.0144 - acc: 0.995 - ETA: 5s - loss: 0.0143 - acc: 0.995 - ETA: 5s - loss: 0.0143 - acc: 0.995 - ETA: 4s - loss: 0.0142 - acc: 0.995 - ETA: 4s - loss: 0.0142 - acc: 0.995 - ETA: 3s - loss: 0.0143 - acc: 0.995 - ETA: 3s - loss: 0.0142 - acc: 0.995 - ETA: 3s - loss: 0.0143 - acc: 0.995 - ETA: 2s - loss: 0.0143 - acc: 0.995 - ETA: 2s - loss: 0.0143 - acc: 0.995 - ETA: 1s - loss: 0.0143 - acc: 0.995 - ETA: 1s - loss: 0.0143 - acc: 0.995 - ETA: 0s - loss: 0.0143 - acc: 0.995 - ETA: 0s - loss: 0.0143 - acc: 0.995 - 25s 463us/step - loss: 0.0142 - acc: 0.9958 - val_loss: 0.0154 - val_acc: 0.9950\n",
      "Epoch 8/10\n",
      "55000/55000 [==============================] - ETA: 26s - loss: 0.0153 - acc: 0.99 - ETA: 25s - loss: 0.0150 - acc: 0.99 - ETA: 24s - loss: 0.0153 - acc: 0.99 - ETA: 24s - loss: 0.0144 - acc: 0.99 - ETA: 22s - loss: 0.0140 - acc: 0.99 - ETA: 22s - loss: 0.0133 - acc: 0.99 - ETA: 21s - loss: 0.0136 - acc: 0.99 - ETA: 20s - loss: 0.0136 - acc: 0.99 - ETA: 20s - loss: 0.0133 - acc: 0.99 - ETA: 19s - loss: 0.0133 - acc: 0.99 - ETA: 19s - loss: 0.0131 - acc: 0.99 - ETA: 18s - loss: 0.0130 - acc: 0.99 - ETA: 18s - loss: 0.0129 - acc: 0.99 - ETA: 17s - loss: 0.0127 - acc: 0.99 - ETA: 17s - loss: 0.0125 - acc: 0.99 - ETA: 16s - loss: 0.0125 - acc: 0.99 - ETA: 16s - loss: 0.0123 - acc: 0.99 - ETA: 16s - loss: 0.0123 - acc: 0.99 - ETA: 15s - loss: 0.0123 - acc: 0.99 - ETA: 15s - loss: 0.0122 - acc: 0.99 - ETA: 14s - loss: 0.0122 - acc: 0.99 - ETA: 14s - loss: 0.0122 - acc: 0.99 - ETA: 13s - loss: 0.0122 - acc: 0.99 - ETA: 13s - loss: 0.0122 - acc: 0.99 - ETA: 12s - loss: 0.0122 - acc: 0.99 - ETA: 12s - loss: 0.0121 - acc: 0.99 - ETA: 11s - loss: 0.0122 - acc: 0.99 - ETA: 11s - loss: 0.0122 - acc: 0.99 - ETA: 11s - loss: 0.0123 - acc: 0.99 - ETA: 10s - loss: 0.0123 - acc: 0.99 - ETA: 10s - loss: 0.0124 - acc: 0.99 - ETA: 9s - loss: 0.0124 - acc: 0.9962 - ETA: 9s - loss: 0.0124 - acc: 0.996 - ETA: 8s - loss: 0.0124 - acc: 0.996 - ETA: 8s - loss: 0.0123 - acc: 0.996 - ETA: 8s - loss: 0.0124 - acc: 0.996 - ETA: 7s - loss: 0.0123 - acc: 0.996 - ETA: 7s - loss: 0.0123 - acc: 0.996 - ETA: 6s - loss: 0.0123 - acc: 0.996 - ETA: 6s - loss: 0.0124 - acc: 0.996 - ETA: 5s - loss: 0.0124 - acc: 0.996 - ETA: 5s - loss: 0.0124 - acc: 0.996 - ETA: 4s - loss: 0.0124 - acc: 0.996 - ETA: 4s - loss: 0.0124 - acc: 0.996 - ETA: 3s - loss: 0.0124 - acc: 0.996 - ETA: 3s - loss: 0.0124 - acc: 0.996 - ETA: 3s - loss: 0.0124 - acc: 0.996 - ETA: 2s - loss: 0.0123 - acc: 0.996 - ETA: 2s - loss: 0.0123 - acc: 0.996 - ETA: 1s - loss: 0.0123 - acc: 0.996 - ETA: 1s - loss: 0.0123 - acc: 0.996 - ETA: 0s - loss: 0.0123 - acc: 0.996 - ETA: 0s - loss: 0.0124 - acc: 0.996 - 26s 464us/step - loss: 0.0124 - acc: 0.9963 - val_loss: 0.0142 - val_acc: 0.9953\n",
      "Epoch 9/10\n",
      "55000/55000 [==============================] - ETA: 24s - loss: 0.0091 - acc: 0.99 - ETA: 23s - loss: 0.0089 - acc: 0.99 - ETA: 22s - loss: 0.0098 - acc: 0.99 - ETA: 21s - loss: 0.0099 - acc: 0.99 - ETA: 21s - loss: 0.0105 - acc: 0.99 - ETA: 20s - loss: 0.0102 - acc: 0.99 - ETA: 20s - loss: 0.0102 - acc: 0.99 - ETA: 20s - loss: 0.0101 - acc: 0.99 - ETA: 20s - loss: 0.0104 - acc: 0.99 - ETA: 19s - loss: 0.0103 - acc: 0.99 - ETA: 19s - loss: 0.0105 - acc: 0.99 - ETA: 18s - loss: 0.0106 - acc: 0.99 - ETA: 18s - loss: 0.0106 - acc: 0.99 - ETA: 17s - loss: 0.0109 - acc: 0.99 - ETA: 17s - loss: 0.0107 - acc: 0.99 - ETA: 16s - loss: 0.0107 - acc: 0.99 - ETA: 16s - loss: 0.0108 - acc: 0.99 - ETA: 15s - loss: 0.0109 - acc: 0.99 - ETA: 15s - loss: 0.0109 - acc: 0.99 - ETA: 14s - loss: 0.0108 - acc: 0.99 - ETA: 14s - loss: 0.0107 - acc: 0.99 - ETA: 14s - loss: 0.0107 - acc: 0.99 - ETA: 13s - loss: 0.0106 - acc: 0.99 - ETA: 13s - loss: 0.0105 - acc: 0.99 - ETA: 12s - loss: 0.0105 - acc: 0.99 - ETA: 12s - loss: 0.0105 - acc: 0.99 - ETA: 12s - loss: 0.0106 - acc: 0.99 - ETA: 11s - loss: 0.0106 - acc: 0.99 - ETA: 11s - loss: 0.0106 - acc: 0.99 - ETA: 10s - loss: 0.0105 - acc: 0.99 - ETA: 10s - loss: 0.0105 - acc: 0.99 - ETA: 9s - loss: 0.0105 - acc: 0.9970 - ETA: 9s - loss: 0.0105 - acc: 0.997 - ETA: 8s - loss: 0.0105 - acc: 0.997 - ETA: 8s - loss: 0.0105 - acc: 0.997 - ETA: 7s - loss: 0.0105 - acc: 0.997 - ETA: 7s - loss: 0.0105 - acc: 0.997 - ETA: 7s - loss: 0.0105 - acc: 0.997 - ETA: 6s - loss: 0.0105 - acc: 0.997 - ETA: 6s - loss: 0.0106 - acc: 0.996 - ETA: 5s - loss: 0.0106 - acc: 0.996 - ETA: 5s - loss: 0.0107 - acc: 0.996 - ETA: 4s - loss: 0.0107 - acc: 0.996 - ETA: 4s - loss: 0.0108 - acc: 0.996 - ETA: 3s - loss: 0.0109 - acc: 0.996 - ETA: 3s - loss: 0.0108 - acc: 0.996 - ETA: 3s - loss: 0.0108 - acc: 0.996 - ETA: 2s - loss: 0.0108 - acc: 0.996 - ETA: 2s - loss: 0.0108 - acc: 0.996 - ETA: 1s - loss: 0.0108 - acc: 0.996 - ETA: 1s - loss: 0.0108 - acc: 0.996 - ETA: 0s - loss: 0.0108 - acc: 0.996 - ETA: 0s - loss: 0.0108 - acc: 0.996 - 26s 465us/step - loss: 0.0108 - acc: 0.9968 - val_loss: 0.0135 - val_acc: 0.9956\n",
      "Epoch 10/10\n"
     ]
    },
    {
     "name": "stdout",
     "output_type": "stream",
     "text": [
      "55000/55000 [==============================] - ETA: 23s - loss: 0.0092 - acc: 0.99 - ETA: 23s - loss: 0.0081 - acc: 0.99 - ETA: 22s - loss: 0.0077 - acc: 0.99 - ETA: 21s - loss: 0.0087 - acc: 0.99 - ETA: 21s - loss: 0.0093 - acc: 0.99 - ETA: 20s - loss: 0.0094 - acc: 0.99 - ETA: 20s - loss: 0.0094 - acc: 0.99 - ETA: 19s - loss: 0.0094 - acc: 0.99 - ETA: 19s - loss: 0.0093 - acc: 0.99 - ETA: 19s - loss: 0.0091 - acc: 0.99 - ETA: 18s - loss: 0.0092 - acc: 0.99 - ETA: 18s - loss: 0.0092 - acc: 0.99 - ETA: 18s - loss: 0.0091 - acc: 0.99 - ETA: 17s - loss: 0.0092 - acc: 0.99 - ETA: 17s - loss: 0.0092 - acc: 0.99 - ETA: 17s - loss: 0.0091 - acc: 0.99 - ETA: 16s - loss: 0.0092 - acc: 0.99 - ETA: 16s - loss: 0.0094 - acc: 0.99 - ETA: 15s - loss: 0.0093 - acc: 0.99 - ETA: 15s - loss: 0.0095 - acc: 0.99 - ETA: 14s - loss: 0.0096 - acc: 0.99 - ETA: 14s - loss: 0.0095 - acc: 0.99 - ETA: 13s - loss: 0.0095 - acc: 0.99 - ETA: 13s - loss: 0.0095 - acc: 0.99 - ETA: 12s - loss: 0.0095 - acc: 0.99 - ETA: 12s - loss: 0.0094 - acc: 0.99 - ETA: 11s - loss: 0.0094 - acc: 0.99 - ETA: 11s - loss: 0.0094 - acc: 0.99 - ETA: 11s - loss: 0.0094 - acc: 0.99 - ETA: 10s - loss: 0.0094 - acc: 0.99 - ETA: 10s - loss: 0.0094 - acc: 0.99 - ETA: 9s - loss: 0.0094 - acc: 0.9973 - ETA: 9s - loss: 0.0094 - acc: 0.997 - ETA: 8s - loss: 0.0095 - acc: 0.997 - ETA: 8s - loss: 0.0095 - acc: 0.997 - ETA: 7s - loss: 0.0096 - acc: 0.997 - ETA: 7s - loss: 0.0095 - acc: 0.997 - ETA: 7s - loss: 0.0095 - acc: 0.997 - ETA: 6s - loss: 0.0095 - acc: 0.997 - ETA: 6s - loss: 0.0096 - acc: 0.997 - ETA: 5s - loss: 0.0096 - acc: 0.997 - ETA: 5s - loss: 0.0097 - acc: 0.997 - ETA: 4s - loss: 0.0096 - acc: 0.997 - ETA: 4s - loss: 0.0096 - acc: 0.997 - ETA: 3s - loss: 0.0096 - acc: 0.997 - ETA: 3s - loss: 0.0096 - acc: 0.997 - ETA: 3s - loss: 0.0096 - acc: 0.997 - ETA: 2s - loss: 0.0096 - acc: 0.997 - ETA: 2s - loss: 0.0096 - acc: 0.997 - ETA: 1s - loss: 0.0096 - acc: 0.997 - ETA: 1s - loss: 0.0096 - acc: 0.997 - ETA: 0s - loss: 0.0096 - acc: 0.997 - ETA: 0s - loss: 0.0096 - acc: 0.997 - 26s 465us/step - loss: 0.0095 - acc: 0.9972 - val_loss: 0.0128 - val_acc: 0.9958\n"
     ]
    },
    {
     "data": {
      "text/plain": [
       "<keras.callbacks.History at 0x1c4dd8279e8>"
      ]
     },
     "execution_count": 35,
     "metadata": {},
     "output_type": "execute_result"
    }
   ],
   "source": [
    "model.fit(xtrain,ytrain,batch_size = 1024, epochs = 10, validation_data = (xtest,ytest))"
   ]
  },
  {
   "cell_type": "code",
   "execution_count": 39,
   "metadata": {},
   "outputs": [
    {
     "name": "stdout",
     "output_type": "stream",
     "text": [
      "10000/10000 [==============================] - ETA:  - ETA:  - ETA:  - ETA:  - ETA:  - ETA:  - ETA:  - ETA:  - ETA:  - ETA:  - ETA:  - ETA:  - ETA:  - ETA:  - ETA:  - ETA:  - ETA:  - ETA:  - ETA:  - ETA:  - ETA:  - ETA:  - ETA:  - ETA:  - ETA:  - ETA:  - ETA:  - ETA:  - ETA:  - ETA:  - ETA:  - ETA:  - ETA:  - ETA:  - ETA:  - ETA:  - ETA:  - ETA:  - ETA:  - ETA:  - ETA:  - ETA:  - ETA:  - ETA:  - ETA:  - ETA:  - ETA:  - ETA:  - ETA:  - ETA:  - ETA:  - 3s 296us/step\n"
     ]
    }
   ],
   "source": [
    "stats = model.evaluate(xtest,ytest)"
   ]
  },
  {
   "cell_type": "code",
   "execution_count": 40,
   "metadata": {},
   "outputs": [
    {
     "name": "stdout",
     "output_type": "stream",
     "text": [
      "The accuracy rate is 99.6%\n",
      "The loss rate is 1.3%\n"
     ]
    }
   ],
   "source": [
    "print(\"The accuracy rate is {}%\".format(round(stats[1],3)*100))\n",
    "print(\"The loss rate is {}%\".format(round(stats[0],3)*100))"
   ]
  },
  {
   "cell_type": "code",
   "execution_count": 41,
   "metadata": {},
   "outputs": [
    {
     "name": "stdout",
     "output_type": "stream",
     "text": [
      "_________________________________________________________________\n",
      "Layer (type)                 Output Shape              Param #   \n",
      "=================================================================\n",
      "conv2d_1 (Conv2D)            (None, 26, 26, 32)        320       \n",
      "_________________________________________________________________\n",
      "flatten_1 (Flatten)          (None, 21632)             0         \n",
      "_________________________________________________________________\n",
      "dense_1 (Dense)              (None, 128)               2769024   \n",
      "_________________________________________________________________\n",
      "dense_2 (Dense)              (None, 10)                1290      \n",
      "=================================================================\n",
      "Total params: 2,770,634\n",
      "Trainable params: 2,770,634\n",
      "Non-trainable params: 0\n",
      "_________________________________________________________________\n"
     ]
    }
   ],
   "source": [
    "model.summary()"
   ]
  }
 ],
 "metadata": {
  "kernelspec": {
   "display_name": "Python 3",
   "language": "python",
   "name": "python3"
  },
  "language_info": {
   "codemirror_mode": {
    "name": "ipython",
    "version": 3
   },
   "file_extension": ".py",
   "mimetype": "text/x-python",
   "name": "python",
   "nbconvert_exporter": "python",
   "pygments_lexer": "ipython3",
   "version": "3.6.5"
  }
 },
 "nbformat": 4,
 "nbformat_minor": 2
}
